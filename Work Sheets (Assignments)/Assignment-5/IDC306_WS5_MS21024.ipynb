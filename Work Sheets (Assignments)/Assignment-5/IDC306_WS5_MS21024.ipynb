{
  "nbformat": 4,
  "nbformat_minor": 0,
  "metadata": {
    "colab": {
      "provenance": []
    },
    "kernelspec": {
      "name": "python3",
      "display_name": "Python 3"
    },
    "language_info": {
      "name": "python"
    }
  },
  "cells": [
    {
      "cell_type": "markdown",
      "source": [
        "**Answer-1 :**\n",
        "---\n",
        "---"
      ],
      "metadata": {
        "id": "mgk7F22eTRSI"
      }
    },
    {
      "cell_type": "code",
      "source": [
        "def Program(file_path):\n",
        "    data = {}\n",
        "    f=open(file_path)\n",
        "    for line in f.readlines():\n",
        "      resid = line[23:26].strip()\n",
        "      atom_name = line[12:16].strip()\n",
        "      res_name = line[17:20].strip()\n",
        "      x_coord = line[30:38].strip()\n",
        "      y_coord = line[38:46].strip()\n",
        "      z_coord = line[46:54].strip()\n",
        "\n",
        "      if resid not in data:\n",
        "        data[resid] = {'resname': res_name}\n",
        "\n",
        "      if atom_name not in data[resid]:\n",
        "        data[resid][atom_name] = [x_coord, y_coord, z_coord]\n",
        "\n",
        "    return data\n",
        "\n",
        "\n",
        "PDB_data = Program('atom_cord.txt')\n",
        "Res_id = input(\"Enter Residue ID : \")\n",
        "Atm = input(\"Enter Atom Number : \").upper()\n",
        "Res_n = PDB_data[Res_id]['resname']\n",
        "Coordinates = PDB_data[Res_id][Atm]\n",
        "\n",
        "print(f\"\\nResidue {Res_id} name : {Res_n}\")\n",
        "print(f\"The Coordinates of {Atm} in residue {Res_id} : {Coordinates}\")"
      ],
      "metadata": {
        "colab": {
          "base_uri": "https://localhost:8080/"
        },
        "outputId": "29665a22-e199-4239-8dd8-664aa4c71b02",
        "id": "WMhsGMRFj7mm"
      },
      "execution_count": null,
      "outputs": [
        {
          "output_type": "stream",
          "name": "stdout",
          "text": [
            "Enter Residue ID : 5\n",
            "Enter Atom Number : CA\n",
            "\n",
            "Residue 5 name : LEU\n",
            "The Coordinates of CA in residue 5 : ['52.675', '-23.892', '93.371']\n"
          ]
        }
      ]
    },
    {
      "cell_type": "markdown",
      "source": [
        "**Answer-2 :**\n",
        "---\n",
        "---"
      ],
      "metadata": {
        "id": "0C9EPNLxTuu1"
      }
    },
    {
      "cell_type": "code",
      "source": [
        "# @title Part-(a)\n",
        "\n",
        "def Res_comp(pdb_data):\n",
        "  comp = {}\n",
        "  for resid, data in pdb_data.items():\n",
        "    resname = data['resname']\n",
        "    comp[resname] = comp.get(resname,0) + 1\n",
        "  return comp\n",
        "\n",
        "Composition = Res_comp(PDB_data)\n",
        "print(f\"The composition of Residues is :\\n{Composition}\")"
      ],
      "metadata": {
        "colab": {
          "base_uri": "https://localhost:8080/"
        },
        "outputId": "5bf256e4-5eed-47c0-b2b6-d046da44e3c9",
        "id": "7ZClh_dU-wPT"
      },
      "execution_count": null,
      "outputs": [
        {
          "output_type": "stream",
          "name": "stdout",
          "text": [
            "The composition of Residues is :\n",
            "{'LEU': 27, 'SER': 17, 'ALA': 32, 'GLU': 28, 'ASP': 26, 'LYS': 30, 'VAL': 19, 'ARG': 18, 'MET': 8, 'ILE': 26, 'ASN': 15, 'GLY': 17, 'THR': 20, 'GLN': 13, 'HIS': 6, 'TYR': 13, 'CYS': 9, 'PHE': 19, 'TRP': 3, 'PRO': 4}\n"
          ]
        }
      ]
    },
    {
      "cell_type": "code",
      "source": [
        "# @title Part-(b)\n",
        "\n",
        "def SameRes_atoms(pdb_data):\n",
        "  Am_count = {}\n",
        "\n",
        "  for resid, data in pdb_data.items():\n",
        "    res_name = data['resname']\n",
        "    if res_name not in Am_count:\n",
        "      Am_count[res_name] = {}\n",
        "\n",
        "    Am_count[res_name][resid] = len(data)-1\n",
        "\n",
        "  print(f\"{Am_count}\\n\")\n",
        "  for Res, Num in Am_count.items():\n",
        "    At_count = set(Num.values())\n",
        "    if len(At_count) > 1:\n",
        "      print(f\"No, {Res} doesn't have the same number of atoms {At_count}.\")\n",
        "    else:\n",
        "      print(f\"Yes, {Res} has the same number of atoms {At_count}.\")\n",
        "  return \"\"\n",
        "\n",
        "\n",
        "print(\"The list of number of atoms for each residue id for every amino acid is :\")\n",
        "Amino_c = SameRes_atoms(PDB_data)\n",
        "print(Amino_c)\n",
        "\n",
        "\n",
        "def Avg_atom(pdb_data):\n",
        "  count = {}\n",
        "\n",
        "  for resid, data in pdb_data.items():\n",
        "    res_name = data['resname']\n",
        "    if res_name not in count:\n",
        "      count[res_name] = {\"Total atoms\":0,\"Residue counts\":0}\n",
        "\n",
        "    A_count = len(data)-1\n",
        "    count[res_name][\"Total atoms\"] += A_count\n",
        "    count[res_name][\"Residue counts\"] += 1\n",
        "\n",
        "  print(count)\n",
        "  for i,j in count.items():\n",
        "    Avg = j[\"Total atoms\"]/j[\"Residue counts\"]\n",
        "    print(f\"The average number of atoms in {i} : {Avg:0.2f}\")\n",
        "  return \"\"\n",
        "\n",
        "print(\"The average number of atoms for each residue is :\")\n",
        "Avg_At = Avg_atom(PDB_data)\n",
        "print(Avg_At)"
      ],
      "metadata": {
        "colab": {
          "base_uri": "https://localhost:8080/"
        },
        "id": "OYV6fyJ1s2-I",
        "outputId": "a76b2794-12cc-44b0-d5a5-cc6f9f845055"
      },
      "execution_count": null,
      "outputs": [
        {
          "output_type": "stream",
          "name": "stdout",
          "text": [
            "The list of number of atoms for each residue id for every amino acid is :\n",
            "{'LEU': {'5': 5, '23': 8, '36': 8, '37': 8, '38': 8, '39': 8, '91': 8, '107': 8, '110': 8, '123': 8, '130': 8, '148': 8, '156': 8, '159': 8, '175': 8, '194': 8, '227': 8, '232': 8, '234': 8, '249': 8, '266': 8, '268': 8, '273': 8, '283': 8, '310': 8, '348': 8, '353': 8}, 'SER': {'6': 6, '16': 6, '44': 6, '47': 6, '62': 6, '75': 6, '80': 6, '134': 6, '143': 6, '151': 6, '206': 6, '228': 6, '246': 6, '252': 6, '263': 6, '281': 6, '293': 6}, 'ALA': {'7': 5, '11': 5, '12': 5, '30': 5, '31': 5, '41': 5, '59': 5, '71': 5, '83': 5, '87': 5, '98': 5, '99': 5, '101': 5, '104': 5, '111': 5, '113': 5, '114': 5, '121': 5, '124': 5, '138': 5, '152': 5, '153': 5, '163': 5, '220': 5, '226': 5, '235': 5, '291': 5, '299': 5, '300': 5, '301': 5, '326': 5, '338': 5}, 'GLU': {'8': 9, '14': 9, '25': 9, '28': 9, '33': 9, '43': 9, '58': 9, '63': 9, '64': 9, '65': 9, '115': 9, '116': 9, '122': 9, '145': 9, '186': 9, '207': 9, '216': 9, '236': 9, '238': 9, '239': 9, '245': 9, '275': 9, '276': 9, '289': 9, '297': 9, '298': 9, '308': 9, '318': 9}, 'ASP': {'9': 8, '20': 8, '26': 8, '94': 8, '97': 8, '102': 8, '103': 8, '133': 8, '150': 8, '158': 8, '160': 8, '173': 8, '193': 8, '200': 8, '229': 8, '231': 8, '237': 8, '251': 8, '261': 8, '272': 8, '309': 8, '315': 8, '328': 8, '337': 8, '341': 8, '350': 8}, 'LYS': {'10': 9, '17': 9, '29': 9, '35': 9, '46': 9, '51': 9, '54': 9, '67': 9, '70': 9, '92': 9, '128': 9, '132': 9, '180': 9, '192': 9, '197': 9, '209': 9, '210': 9, '248': 9, '257': 9, '270': 9, '271': 9, '277': 9, '279': 9, '280': 9, '312': 9, '314': 9, '317': 9, '330': 9, '345': 9, '349': 9}, 'VAL': {'13': 7, '34': 7, '50': 7, '72': 7, '73': 7, '109': 7, '126': 7, '136': 7, '174': 7, '179': 7, '185': 7, '201': 7, '218': 7, '225': 7, '233': 7, '332': 7, '335': 7, '339': 7, '342': 7}, 'ARG': {'15': 11, '21': 11, '24': 11, '32': 11, '86': 11, '90': 11, '100': 11, '105': 11, '129': 11, '142': 11, '144': 11, '161': 11, '176': 11, '178': 11, '205': 11, '208': 11, '242': 11, '313': 11}, 'MET': {'18': 8, '53': 8, '88': 8, '119': 8, '198': 8, '240': 8, '243': 8, '247': 8}, 'ILE': {'19': 8, '49': 8, '55': 8, '56': 8, '78': 8, '81': 8, '82': 8, '84': 8, '85': 8, '93': 8, '127': 8, '162': 8, '168': 8, '184': 8, '212': 8, '221': 8, '222': 8, '253': 8, '264': 8, '265': 8, '278': 8, '285': 8, '303': 8, '319': 8, '343': 8, '344': 8}, 'ASN': {'22': 8, '76': 8, '141': 8, '149': 8, '157': 8, '166': 8, '241': 8, '255': 8, '256': 8, '269': 8, '294': 8, '311': 8, '331': 8, '346': 8, '347': 8}, 'GLY': {'27': 4, '40': 4, '42': 4, '45': 4, '60': 4, '89': 4, '96': 4, '112': 4, '117': 4, '125': 4, '135': 4, '183': 4, '202': 4, '203': 4, '217': 4, '292': 4, '352': 4}, 'THR': {'48': 7, '77': 7, '120': 7, '170': 7, '177': 7, '181': 7, '182': 7, '187': 7, '190': 7, '219': 7, '260': 7, '262': 7, '284': 7, '295': 7, '316': 7, '321': 7, '324': 7, '327': 7, '329': 7, '340': 7}, 'GLN': {'52': 9, '68': 9, '79': 9, '106': 9, '137': 9, '147': 9, '164': 9, '171': 9, '172': 9, '204': 9, '304': 9, '306': 9, '333': 9}, 'HIS': {'57': 10, '188': 10, '195': 10, '213': 10, '244': 10, '322': 10}, 'TYR': {'61': 12, '69': 12, '74': 12, '146': 12, '154': 12, '155': 12, '167': 12, '230': 12, '287': 12, '290': 12, '296': 12, '302': 12, '320': 12}, 'CYS': {'66': 6, '139': 6, '214': 6, '224': 6, '254': 6, '286': 6, '305': 6, '325': 6, '351': 6}, 'PHE': {'95': 11, '108': 11, '118': 11, '140': 11, '189': 11, '191': 11, '196': 11, '199': 11, '215': 11, '223': 11, '250': 11, '259': 11, '267': 11, '274': 11, '307': 11, '323': 11, '334': 11, '336': 11, '354': 10}, 'TRP': {'131': 14, '211': 14, '258': 14}, 'PRO': {'165': 7, '169': 7, '282': 7, '288': 7}}\n",
            "\n",
            "No, LEU doesn't have the same number of atoms {8, 5}.\n",
            "Yes, SER has the same number of atoms {6}.\n",
            "Yes, ALA has the same number of atoms {5}.\n",
            "Yes, GLU has the same number of atoms {9}.\n",
            "Yes, ASP has the same number of atoms {8}.\n",
            "Yes, LYS has the same number of atoms {9}.\n",
            "Yes, VAL has the same number of atoms {7}.\n",
            "Yes, ARG has the same number of atoms {11}.\n",
            "Yes, MET has the same number of atoms {8}.\n",
            "Yes, ILE has the same number of atoms {8}.\n",
            "Yes, ASN has the same number of atoms {8}.\n",
            "Yes, GLY has the same number of atoms {4}.\n",
            "Yes, THR has the same number of atoms {7}.\n",
            "Yes, GLN has the same number of atoms {9}.\n",
            "Yes, HIS has the same number of atoms {10}.\n",
            "Yes, TYR has the same number of atoms {12}.\n",
            "Yes, CYS has the same number of atoms {6}.\n",
            "No, PHE doesn't have the same number of atoms {10, 11}.\n",
            "Yes, TRP has the same number of atoms {14}.\n",
            "Yes, PRO has the same number of atoms {7}.\n",
            "\n",
            "The average number of atoms for each residue is :\n",
            "{'LEU': {'Total atoms': 213, 'Residue counts': 27}, 'SER': {'Total atoms': 102, 'Residue counts': 17}, 'ALA': {'Total atoms': 160, 'Residue counts': 32}, 'GLU': {'Total atoms': 252, 'Residue counts': 28}, 'ASP': {'Total atoms': 208, 'Residue counts': 26}, 'LYS': {'Total atoms': 270, 'Residue counts': 30}, 'VAL': {'Total atoms': 133, 'Residue counts': 19}, 'ARG': {'Total atoms': 198, 'Residue counts': 18}, 'MET': {'Total atoms': 64, 'Residue counts': 8}, 'ILE': {'Total atoms': 208, 'Residue counts': 26}, 'ASN': {'Total atoms': 120, 'Residue counts': 15}, 'GLY': {'Total atoms': 68, 'Residue counts': 17}, 'THR': {'Total atoms': 140, 'Residue counts': 20}, 'GLN': {'Total atoms': 117, 'Residue counts': 13}, 'HIS': {'Total atoms': 60, 'Residue counts': 6}, 'TYR': {'Total atoms': 156, 'Residue counts': 13}, 'CYS': {'Total atoms': 54, 'Residue counts': 9}, 'PHE': {'Total atoms': 208, 'Residue counts': 19}, 'TRP': {'Total atoms': 42, 'Residue counts': 3}, 'PRO': {'Total atoms': 28, 'Residue counts': 4}}\n",
            "The average number of atoms in LEU : 7.89\n",
            "The average number of atoms in SER : 6.00\n",
            "The average number of atoms in ALA : 5.00\n",
            "The average number of atoms in GLU : 9.00\n",
            "The average number of atoms in ASP : 8.00\n",
            "The average number of atoms in LYS : 9.00\n",
            "The average number of atoms in VAL : 7.00\n",
            "The average number of atoms in ARG : 11.00\n",
            "The average number of atoms in MET : 8.00\n",
            "The average number of atoms in ILE : 8.00\n",
            "The average number of atoms in ASN : 8.00\n",
            "The average number of atoms in GLY : 4.00\n",
            "The average number of atoms in THR : 7.00\n",
            "The average number of atoms in GLN : 9.00\n",
            "The average number of atoms in HIS : 10.00\n",
            "The average number of atoms in TYR : 12.00\n",
            "The average number of atoms in CYS : 6.00\n",
            "The average number of atoms in PHE : 10.95\n",
            "The average number of atoms in TRP : 14.00\n",
            "The average number of atoms in PRO : 7.00\n",
            "\n"
          ]
        }
      ]
    },
    {
      "cell_type": "code",
      "source": [
        "# @title Part-(c)\n",
        "\n",
        "import math\n",
        "\n",
        "def calculate_distance(v1, v2):\n",
        "    v_diff = [v2[i] - v1[i] for i in range(3)]\n",
        "    return math.sqrt(sum(v**2 for v in v_diff))\n",
        "\n",
        "def Avgd_CA(pdb_file):\n",
        "    ca_coordinates = []\n",
        "    f = open(pdb_file)\n",
        "    for line in f.readlines():\n",
        "      if line[12:16].strip() == 'CA':\n",
        "        x_coord = float(line[30:38])\n",
        "        y_coord = float(line[38:46])\n",
        "        z_coord = float(line[46:54])\n",
        "        ca_coordinates.append((x_coord, y_coord, z_coord))\n",
        "\n",
        "    distances = []\n",
        "    for i in range(len(ca_coordinates) - 1):\n",
        "        v1 = ca_coordinates[i]\n",
        "        v2 = ca_coordinates[i + 1]\n",
        "        distance = calculate_distance(v1, v2)\n",
        "        distances.append(distance)\n",
        "\n",
        "    if distances:\n",
        "        average_distance = sum(distances) / len(distances)\n",
        "        return average_distance\n",
        "    else:\n",
        "        return 0\n",
        "\n",
        "\n",
        "avg_dist = Avgd_CA('atom_cord.txt')\n",
        "print(f\"The average distance between consecutive CA residues is : {avg_dist}\")"
      ],
      "metadata": {
        "colab": {
          "base_uri": "https://localhost:8080/"
        },
        "outputId": "39b8906a-21e6-40ad-dec5-d2d612100042",
        "id": "RRLezvQSoKSY"
      },
      "execution_count": null,
      "outputs": [
        {
          "output_type": "stream",
          "name": "stdout",
          "text": [
            "The average distance between consecutive CA residues is : 3.8001963748470757\n"
          ]
        }
      ]
    }
  ]
}