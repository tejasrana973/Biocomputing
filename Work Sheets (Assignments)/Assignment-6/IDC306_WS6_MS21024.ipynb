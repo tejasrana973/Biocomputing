{
  "nbformat": 4,
  "nbformat_minor": 0,
  "metadata": {
    "colab": {
      "provenance": []
    },
    "kernelspec": {
      "name": "python3",
      "display_name": "Python 3"
    },
    "language_info": {
      "name": "python"
    }
  },
  "cells": [
    {
      "cell_type": "markdown",
      "source": [
        "**Answer-1 :**\n",
        "---\n",
        "---"
      ],
      "metadata": {
        "id": "D_lOFRz45Hw1"
      }
    },
    {
      "cell_type": "code",
      "execution_count": null,
      "metadata": {
        "colab": {
          "base_uri": "https://localhost:8080/"
        },
        "id": "YjdszuV-36vy",
        "outputId": "27c1ac8f-06fa-482a-e9d0-a89a590594ba"
      },
      "outputs": [
        {
          "output_type": "stream",
          "name": "stdout",
          "text": [
            "The angle between A2-A1 and A2-A3 is : 90.0 Degrees\n"
          ]
        }
      ],
      "source": [
        "import math\n",
        "\n",
        "def calculate_angle(atom1, atom2, atom3):\n",
        "    vector_a = [atom1[i] - atom2[i] for i in range(3)]\n",
        "    vector_b = [atom3[i] - atom2[i] for i in range(3)]\n",
        "\n",
        "    dot_product = sum(vector_a[i] * vector_b[i] for i in range(3))\n",
        "\n",
        "    magnitude_a = math.sqrt(sum(v**2 for v in vector_a))\n",
        "    magnitude_b = math.sqrt(sum(v**2 for v in vector_b))\n",
        "\n",
        "    cosine_angle = dot_product / (magnitude_a * magnitude_b)\n",
        "\n",
        "    angle_radians = math.acos(cosine_angle)\n",
        "\n",
        "    angle_degrees = math.degrees(angle_radians)\n",
        "\n",
        "    return angle_degrees\n",
        "\n",
        "A1 = [10, 0, 0]\n",
        "A2 = [0, 0, 0]\n",
        "A3 = [0, 0, 9]\n",
        "Angle = calculate_angle(A1, A2, A3)\n",
        "print(f\"The angle between A2-A1 and A2-A3 is : {Angle} Degrees\")"
      ]
    },
    {
      "cell_type": "markdown",
      "source": [
        "**Answer-2 :**\n",
        "---\n",
        "---"
      ],
      "metadata": {
        "id": "o-drGgj35NtM"
      }
    },
    {
      "cell_type": "code",
      "source": [
        "def calculate_angle_N_CA_C(pdb_file):\n",
        "    angles = {}\n",
        "    f = open(pdb_file)\n",
        "    atom_data = []\n",
        "\n",
        "    for line in f.readlines():\n",
        "      res_name = line[17:20].strip()\n",
        "      atom_name = line[12:16].strip()\n",
        "      if atom_name in ('N', 'CA', 'C'):\n",
        "        x_coord = float(line[30:38])\n",
        "        y_coord = float(line[39:46])\n",
        "        z_coord = float(line[47:54])\n",
        "        atom_data.append((x_coord, y_coord, z_coord))\n",
        "\n",
        "      if len(atom_data) == 3:\n",
        "        angle = calculate_angle(*atom_data)\n",
        "        angles[res_name] = angle\n",
        "        atom_data = []\n",
        "    return angles\n",
        "\n",
        "\n",
        "Angles = calculate_angle_N_CA_C('atom_cord.txt')\n",
        "print(\"The average angle (in degrees) between N-CA-C atoms for each residue is :\")\n",
        "s=0\n",
        "for i,j in Angles.items():\n",
        "  print(f\"{i} : {j}\")\n",
        "  s=s+j\n",
        "m=s/len(Angles)\n",
        "print(f\"\\nThe mean of Average angle between N-CA-C atoms of all residues is : {m} degrees.\")"
      ],
      "metadata": {
        "colab": {
          "base_uri": "https://localhost:8080/"
        },
        "id": "9doDV2p15Q8r",
        "outputId": "297c087a-0146-4b38-c0e7-1c6304738300"
      },
      "execution_count": null,
      "outputs": [
        {
          "output_type": "stream",
          "name": "stdout",
          "text": [
            "The average angle (in degrees) between N-CA-C atoms for each residue is :\n",
            "LEU : 109.76697992987832\n",
            "SER : 110.81198934598449\n",
            "ALA : 108.71150143692795\n",
            "GLU : 113.25033421445185\n",
            "ASP : 113.572706219886\n",
            "LYS : 109.03379720429864\n",
            "VAL : 108.69704999748696\n",
            "ARG : 109.73173173576114\n",
            "MET : 109.88304354491885\n",
            "ILE : 114.24467608225545\n",
            "ASN : 108.80000801101743\n",
            "GLY : 112.7567342249214\n",
            "THR : 110.21906447137079\n",
            "GLN : 109.9478270810493\n",
            "HIS : 104.84597024246246\n",
            "TYR : 110.7242934664282\n",
            "CYS : 112.70858203435333\n",
            "PHE : 112.91976530191245\n",
            "TRP : 108.8714470100871\n",
            "PRO : 111.06117969243601\n",
            "\n",
            "The mean of Average angle between N-CA-C atoms of all residues is : 110.52793406239441 degrees.\n"
          ]
        }
      ]
    }
  ]
}