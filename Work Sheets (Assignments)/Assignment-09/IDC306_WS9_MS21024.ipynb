{
  "nbformat": 4,
  "nbformat_minor": 0,
  "metadata": {
    "colab": {
      "provenance": []
    },
    "kernelspec": {
      "name": "python3",
      "display_name": "Python 3"
    },
    "language_info": {
      "name": "python"
    }
  },
  "cells": [
    {
      "cell_type": "markdown",
      "source": [
        "**Answer-1**\n",
        "---\n",
        "---"
      ],
      "metadata": {
        "id": "zNhx2uF2OroG"
      }
    },
    {
      "cell_type": "code",
      "source": [
        "import re\n",
        "x = 'Homo Sapiens'\n",
        "m = re.search('([A-Za-z]).+\\\\s+(\\w+)',x)\n",
        "y = m.group(1) + \". \" + m.group(2).lower()\n",
        "print(y)"
      ],
      "metadata": {
        "colab": {
          "base_uri": "https://localhost:8080/"
        },
        "id": "B2Ioc-XOKJ5I",
        "outputId": "a823adf4-499e-44d2-c3f1-ca52fa55957e"
      },
      "execution_count": 17,
      "outputs": [
        {
          "output_type": "stream",
          "name": "stdout",
          "text": [
            "H. sapiens\n"
          ]
        }
      ]
    },
    {
      "cell_type": "markdown",
      "source": [
        "**Answer-2**\n",
        "---\n",
        "---"
      ],
      "metadata": {
        "id": "Sp2wWQouPaOf"
      }
    },
    {
      "cell_type": "code",
      "source": [
        "import re\n",
        "\n",
        "text = '>CAA57801.1= GFP [Mus Musculus]'\n",
        "pattern = r'>(\\w+)\\.\\d+=.*\\[(\\w)\\w+ (\\w+)\\]'\n",
        "\n",
        "match = re.search(pattern, text)\n",
        "\n",
        "m = f'{match.group(1)}_{match.group(2)}.{match.group(3)}'\n",
        "print(m)"
      ],
      "metadata": {
        "colab": {
          "base_uri": "https://localhost:8080/"
        },
        "id": "F41Ky1vbScCD",
        "outputId": "22bc6db3-7d27-4231-e17d-49f5de497130"
      },
      "execution_count": 19,
      "outputs": [
        {
          "output_type": "stream",
          "name": "stdout",
          "text": [
            "CAA57801_M.Musculus\n"
          ]
        }
      ]
    },
    {
      "cell_type": "markdown",
      "source": [
        "**Answer-3**\n",
        "---\n",
        "---"
      ],
      "metadata": {
        "id": "uoV-bd6FPd1D"
      }
    },
    {
      "cell_type": "code",
      "source": [
        "import re\n",
        "\n",
        "text = \">NM_001300425.1 Drosophila melanogaster Akt kinase (Akt), transcript variant E, mRNA\"\n",
        "pattern = r'>(\\w+)\\.\\d+ (\\w)\\w+ (\\w+) .* \\((\\w+)\\),.*'\n",
        "\n",
        "match = re.search(pattern, text)\n",
        "\n",
        "m = f'{match.group(1)}_{match.group(2)}.{match.group(3)}_{match.group(4)}_mRNA'\n",
        "print(m)"
      ],
      "metadata": {
        "colab": {
          "base_uri": "https://localhost:8080/"
        },
        "id": "jy7NlxnGSjie",
        "outputId": "56146524-7a3f-4675-883d-8133c854eeae"
      },
      "execution_count": 20,
      "outputs": [
        {
          "output_type": "stream",
          "name": "stdout",
          "text": [
            "NM_001300425_D.melanogaster_Akt_mRNA\n"
          ]
        }
      ]
    },
    {
      "cell_type": "markdown",
      "source": [
        "**Answer-4**\n",
        "---\n",
        "---"
      ],
      "metadata": {
        "id": "uLidi-yJPgaU"
      }
    },
    {
      "cell_type": "code",
      "source": [
        "import re\n",
        "sequence = \"\"\"\n",
        ">NM_001300425.1 Drosophila melanogaster Akt kinase (Akt), transcript variant E, mRNA\n",
        "CCAGTTATCGAAAAAAAGTGAAGCGTAAAAACTAAACGGTACTTGGAAAATTTACTTTGCCTGTGTGCGT\n",
        "GCTTCTGTTTATGAAAACTACGTTTTTAAGCATTTGCAATTGATGCAACGTTGCTTTGGAAGGCAAGAAA\n",
        "ACACCAAGTGGAAACGCCCGGGTGGCGGAAATCGACTTCCAGTGCGCGAGTGCGAGATTGTGTGTGTTTC\n",
        "GTTCCGTCCTCTGGTGTCTGGCACCTTAACACAACAACAACTACAGCAGCAGCAGCAACAACAACAATAG\n",
        "CAAGCAGCAACAACAACACACGCACAATAATAAGAAGGCCTGTGACGTTGTCGCTGCCGTCACCATCTAA\n",
        "AGGAAAATACCAAAACGAGTAGGAAAACAAACCGCAGTGCAGTAGGGAAAGCAAAAGTCGGGTTTTTTTT\n",
        "TTTACAAAACTAGGTCCCTCATTAGCTTGTCCCTAGGGTTAGTGAAACAGCCTCAACACGAATTACCTAC\n",
        "CGTTTGTTCTTCAGCGGCGATCGACTGTGGTTGCCAGCGCCCCAGCGCCAGGATCTGCCTCTAGGATCCC\n",
        "GGAATCGCCCACCACCACAGGGAGCAACATCATTAACATCATCTACAGCCAATCCACCCATCCAAACAGC\n",
        "AGCCCCACCAGCGGCAGTGCAGAGAAATTCAGCTGGCAGCAATCCTGGCCAAGCAGGACCTCCGCGGCCC\n",
        "CTACACACGATTCCGGAACCATGTCAATAAACACAACTTTCGACCTCAGCTCGCCCAGCGTTACATCGGG\n",
        "TCATGCGCTTACGGAACAGACTCAGGTCGTAAAGGAGGGGTGGCTGATGAAGAGGGGCGAGCACATAAAG\n",
        "AACTGGCGCCAGCGCTACTTCGTGCTCCACTCCGATGGAAGACTGATGGGTTACCGCAGCAAGCCGGCAG\n",
        "ATAGTGCCAGCACGCCATCGGACTTCCTGCTCAACAACTTTACGGTGCGCGGCTGCCAGATCATGACCGT\n",
        "CGATCGGCCCAAGCCATTCACCTTCATCATCCGCGGCCTGCAATGGACCACGGTAATCGAAAGGACATTT\n",
        "GCCGTCGAATCAGAATTAGAGCGCCAGCAGTGGACGGAGGCCATTCGCAACGTATCCAGCCGGCTCATAG\n",
        "ATGTGGGTGAGGTGGCTATGACGCCATCTGAACAGACAGACATGACAGACGTGGACATGGCCACCATTGC\n",
        "CGAGGACGAGCTTTCCGAGCAGTTCTCCGTACAGGGAACGACTTGTAATAGCAGCGGCGTTAAGAAAGTG\n",
        "ACTTTGGAGAATTTTGAGTTCCTCAAGGTGCTCGGCAAGGGCACCTTTGGTAAGGTTATTTTGTGTCGCG\n",
        "AGAAGGCTACCGCCAAGCTGTACGCGATCAAAATTCTTAAAAAGGAAGTTATTATCCAAAAGGACGAGGT\n",
        "GGCCCATACCCTGACCGAGAGTCGTGTGCTCAAGTCCACAAATCATCCGTTCCTCATTTCACTCAAATAT\n",
        "TCGTTTCAAACCAACGACCGCCTGTGTTTTGTGATGCAGTACGTGAACGGTGGCGAGCTCTTTTGGCATT\n",
        "TAAGCCACGAACGCATATTTACTGAGGATCGAACACGTTTCTATGGGGCAGAGATCATTTCTGCTCTGGG\n",
        "CTATCTGCATTCACAGGGCATAATTTATCGCGACTTAAAGCTGGAAAATCTTTTGCTGGACAAAGATGGT\n",
        "CACATAAAGGTCGCAGACTTCGGTCTGTGCAAGGAGGACATCACCTACGGCCGCACAACGAAAACCTTCT\n",
        "GCGGTACACCGGAATACCTAGCTCCGGAAGTATTAGATGACAATGATTATGGCCAAGCGGTGGACTGGTG\n",
        "GGGCACTGGCGTGGTCATGTACGAGATGATCTGTGGTCGTCTTCCGTTTTACAATCGTGATCATGATGTG\n",
        "CTCTTTACATTGATTTTGGTGGAGGAGGTAAAATTCCCGCGTAATATCACAGATGAGGCGAAAAATCTGT\n",
        "TAGCAGGCCTTCTAGCTAAGGATCCCAAAAAGCGTTTGGGAGGTGGAAAGGATGATGTCAAGGAGATACA\n",
        "AGCACATCCATTCTTTGCGAGTATTAACTGGACAGATCTAGTGTTGAAAAAAATACCGCCGCCTTTCAAG\n",
        "CCTCAGGTGACATCCGATACGGATACAAGGTACTTCGACAAGGAGTTTACGGGAGAGAGTGTGGAGTTGA\n",
        "CGCCGCCGGATCCCACTGGCCCGTTGGGCTCCATAGCCGAAGAGCCGCTTTTCCCGCAGTTCAGCTACCA\n",
        "AGGAGACATGGCCTCCACGTTGGGCACCTCGTCGCACATTAGTACTTCCACAAGTCTCGCATCGATGCAA\n",
        "TAGAACAAGTTTACAAACTTTTACCAGCACACATCATGTTCTGCTTCATCACCTATTACTATACTATACC\n",
        "TATAACACATAGAAATGGGCAAAAGAAAACAACAGCAAGAATATATTAAATATTAATTATACCATGATAA\n",
        "CGAAGGCAAGCAAAGGGTTTTCTTGCTAGTTTATATACACCAATAATAAGAGAATTGAATTGATAGTAAC\n",
        "TTATTTTTGTATAATGAGAAAGGGAACGTTGAACGAAAGGGCAACAGCCGAAGCCGAGGAAAATAATTTA\n",
        "CTACATATGATTATACACATATATATAAATATATATATATATATATATATAATTATATATACAACTAAAT\n",
        "ATAACACTTGGGGCATAGCGCTTGAAGTGATTAGTTAATTTTAAACGCAAGGAAAACATTTAACCAAGCG\n",
        "ACTTAGAGCGACTTAGTGCTAGGATAAAGCATGCATCATCGGATCGCATCCTCTAGGGGTCGCTTAAGCT\n",
        "GATTGATTATACAGATTATTCACGCAGACAGCACTCACACAGCCACTTAGCATATAGCGAACATGAAGTT\n",
        "TAGTTAACTTGACAGCAACAAATCGAAATACACATATTCAACAACCGCCCCCACATGCAACACTCGTATA\n",
        "TATAAATTATTTATACTCCAAAGAAGCAAAAAAGAAACAGAAACAATTACAAGTTATATATAATGTTAAA\n",
        "ATTGCCTCTAATGTGCTGTGCTTTATGCAAAACTACAACAACAGAAACAAACAAACTAATAGTTAATAAA\n",
        "CGAGGGAAACATACATCAATGCAGTTTATAGGCGCCAATAATTAGCAAGCAACTAAAAGTTATATTCAGG\n",
        "CAGAAACATATTTCGAAACAATAACGGCAACAGCAAAATGATTACAATTGACGCCATTTTTTATTATAAT\n",
        "TTTTTACGAAAAATATATATTTGTAAATATTTATAAAAAAAAAGCAAAAACTCAAGAGTAAATGCAAAAA\n",
        "AAAAACAAAGGATGTATGTGTCGTGTGGAAAATGGAAGTCACCATTTGAGGCCACAGAAAAGGTTTAACC\n",
        "TTTGACACAATAAAAAATGTATCTTTGTCATTTCATTTTTGGCATTGAAAAGTTCATAACAAGTTTTGTA\n",
        "TACTTAGAGCAAGTCAGCAAAAAATATATATAAATCAACCACAACAGACTTACAAATAGTTCCAAAAGGA\n",
        "AGATTAAAAATTATATAAACAGAAAAAAAACCTAAAAGAAAATAAAGAATTTTTGATATTTTTATATGCG\n",
        "CAATAAAAACAAAAATCAAGAATAAAACGAAACAAAAAGTTATTTTATATTTCGTAAAGAAAACAAAATA\n",
        "AATATTGTAAATAAAAATTATTAAATAAAATCAAGTTCGGGAATTTCAACTGAAAACAAAGAAATTGAAA\n",
        "GCATAATCTCTCTTCTAAATGTTAAACGAAACCTATCACTCGATGATTACAATAAACAGCAAATCGAAAA\n",
        "CGAAGGGATATAGAAACGAAAAGAAAATGCCAAAGAAGCGGCGAAGTTAGGTGGAACTCGAGGAGAACCG\n",
        "AGAATTGAGGAGCCAGCAAGTCGGGATGTTTCGGTTGGAGTCTTGGACATGTGACGATGATGGTTCCAAA\n",
        "TCATGACTAGGAACGAACTAACTAGCTAAAGCCAGCCTATGCTGAGGAGAGATATCAGATAGCTCCGATT\n",
        "GAACCAATCTTTATATCCTTGAACAGCTTAAAGTCCTTGCTTTCTGCTCACCAAGTTTGCGGCTGACATC\n",
        "TAGGCTAGCCAATATCAATCTCAGATCGATCAAGCAATACATAGACAAAATATAGAACCCCTAAGCATGG\n",
        "CTTAATAGACATACAACCCGAGAATCGACTTCAACAAGCCCAATAACCCTTCTGACAGACTCGTTAGGCA\n",
        "AGTCTGCCAGCCAAGGGGCAACCAGCTAGAAATCTAAAGCAAAGACTTAGAAATCGGTTAGGGACATCCG\n",
        "AAGCAAATTGAATACTAGCCTTAGTGAACGTCAACATCTCTGGTATCCCAAATCGAAGCATTTTCTACCC\n",
        "GTCGAAGGGGACGAAAGAGACCTTTCAAAATAGTTGTCTAAGTTTACTGAGTTGTGTGAGACAATTTTTG\n",
        "GTTTCGATTAAAAAAAAAAAAACAAAAACTTACACGAACTGCAAACTACAATGTGTTCTAAAGCGATATA\n",
        "ATAAAACAACATGGTTTAAAATTGACTATATATAGAAAGAAACCGAGAGAGATATAACCAGTCAGATCAT\n",
        "AGATCATCTCGAGCAACTTGAGTTGTTTTTTGTATTGTAAAATAGAAAAAGATAAACCCGTTCCAACAAC\n",
        "CGAGATCCAGATCCAGATCCAGCCCCCAATACTAACCGAAAATTTGATTAGGAGTAATTTTTGATAGGCG\n",
        "AAAATGCGAGTTTCGCACAGTTTTAATTATTAATTATATTAAATAAAGATAATAATGACTAAGCTGATTT\n",
        "ATAAAACGATTCAAGATCGAACTAAAACATACATATACATGCATTCAAACCAAGTTTATTATACAGTGAA\n",
        "AACATAATAATAAAACTACATAAAACCAAACTACTATGC\"\"\"\n",
        "codon1 = re.findall(r'ATG(?:[ATGC]{3})*?(?:TAA|TAG|TGA)', sequence)\n",
        "codon2 = re.findall(r'GTG(?:[ATGC]{3})*?(?:TAA|TAG|TGA)', sequence)\n",
        "print(f\"List of codons starting with ATG :\\n{codon1}\")\n",
        "print(f\"List of codons starting with GTG :\\n{codon2}\")"
      ],
      "metadata": {
        "colab": {
          "base_uri": "https://localhost:8080/"
        },
        "id": "Z4tPriG6KVwW",
        "outputId": "2c4ee657-f62a-44e9-d1ff-b18b507d475b"
      },
      "execution_count": 51,
      "outputs": [
        {
          "output_type": "stream",
          "name": "stdout",
          "text": [
            "List of codons starting with ATG :\n",
            "['ATGAAAACTACGTTTTTAAGCATTTGCAATTGA', 'ATGCGCTTACGGAACAGACTCAGGTCGTAA', 'ATGGAAGACTGA', 'ATGTGGGTGAGGTGGCTATGA', 'ATGGGCAAAAGAAAACAACAGCAAGAATATATTAAATATTAA', 'ATGCAAAACTACAACAACAGAAACAAACAAACTAATAGTTAA', 'ATGCAGTTTATAGGCGCCAATAATTAG', 'ATGTATGTGTCGTGTGGAAAATGGAAGTCACCATTTGAGGCCACAGAAAAGGTTTAA', 'ATGCCAAAGAAGCGGCGAAGTTAG', 'ATGTGA', 'ATGACTAGGAACGAACTAACTAGCTAA', 'ATGCTGAGGAGAGATATCAGATAG', 'ATGGTTTAA', 'ATGCGAGTTTCGCACAGTTTTAATTATTAA']\n",
            "List of codons starting with GTG :\n",
            "['GTGAAGCGTAAAAACTAA', 'GTGTCTGGCACCTTAACACAACAACAACTACAGCAGCAGCAGCAACAACAACAATAG', 'GTGCAGTAG', 'GTGCCAGCACGCCATCGGACTTCCTGCTCAACAACTTTACGGTGCGCGGCTGCCAGATCATGA', 'GTGAGGTGGCTATGA', 'GTGTGGAGTTGA', 'GTGATTAGTTAA', 'GTGCTAGGATAA', 'GTGCTGTGCTTTATGCAAAACTACAACAACAGAAACAAACAAACTAATAGTTAA', 'GTGTCGTGTGGAAAATGGAAGTCACCATTTGAGGCCACAGAAAAGGTTTAA', 'GTGTGA', 'GTGTTCTAA']\n"
          ]
        }
      ]
    },
    {
      "cell_type": "markdown",
      "source": [
        "**Answer-5**\n",
        "---\n",
        "---"
      ],
      "metadata": {
        "id": "mjWUqiOBQMAW"
      }
    },
    {
      "cell_type": "code",
      "source": [
        "x='''<html><body><p>This is example text.</p></body></html>'''\n",
        "m=re.search(r'<([A-Za-z]+)><([A-Za-z]+)><([A-Za-z]+)>((.+)</\\3>)',x)\n",
        "print('Parsed HTML:',(m.group(5)))"
      ],
      "metadata": {
        "colab": {
          "base_uri": "https://localhost:8080/"
        },
        "id": "NeFNM8aWS_v0",
        "outputId": "9090ce68-50a0-404e-ada5-c0dae84ff4f0"
      },
      "execution_count": 24,
      "outputs": [
        {
          "output_type": "stream",
          "name": "stdout",
          "text": [
            "Parsed HTML: This is example text.\n"
          ]
        }
      ]
    },
    {
      "cell_type": "code",
      "source": [
        "import re\n",
        "html = \"\"\"\n",
        "<html>\n",
        "\n",
        "  <body>\n",
        "\n",
        "     <p>This is example text. </p>\n",
        "\n",
        "  </body>\n",
        "\n",
        "</html>\n",
        "\"\"\"\n",
        "contents = re.findall(r'<[^>]+>([^<]+)[^>]+>', html)\n",
        "print(contents)\n",
        "print(contents[1])"
      ],
      "metadata": {
        "colab": {
          "base_uri": "https://localhost:8080/"
        },
        "id": "IX1eBcAuKjP1",
        "outputId": "024fbfe5-8312-49ba-97fe-ddc7222ec134"
      },
      "execution_count": 23,
      "outputs": [
        {
          "output_type": "stream",
          "name": "stdout",
          "text": [
            "['\\n\\n  ', 'This is example text. ', '\\n\\n']\n",
            "This is example text. \n"
          ]
        }
      ]
    },
    {
      "cell_type": "markdown",
      "source": [
        "**Answer-6**\n",
        "---\n",
        "---"
      ],
      "metadata": {
        "id": "O-hKSIcBQRof"
      }
    },
    {
      "cell_type": "code",
      "source": [
        "import re\n",
        "email = \"\"\"\n",
        "RFC822 Message body\n",
        "Received: from webmail.iisermohali.ac.in ([unix socket])\n",
        "Received: from webmail.iisermohali.ac.in (localhost [127.0.0.1])\n",
        "From: \"GA\" <ga@iisermohali.ac.in>\n",
        "Date: Sun, 1 Mar 2020 19:16:32 +0530\n",
        "To: \"USer\" <user@iisermohali.ac.in>\n",
        "Subject: \"Header\"\n",
        "Dear Sir,\n",
        "    Accumsan felis leo suspendisse vehicula orci purus vestibulum neque praesent imperdiet fusce sem a parturient penatibus dictum at suspendisse varius libero iaculis ligula. Adipiscing platea est bibendum vivamus nascetur torquent mus augue auctor vestibulum eleifend eu risus et eros ac vehicula nunc posuere. Nostra gravida at natoque diam euismod auctor parturient hac per in suspendisse suspendisse orci a gravida vestibulum a facilisis natoque hac ac scelerisque a cursus fames id himenaeos. Suspendisse mus parturient consectetur adipiscing convallis mauris et posuere arcu adipiscing magnis nisl natoque mollis dis bibendum vulputate nisi bibendum parturient gravida. Parturient mauris in felis dignissim id auctor mi in malesuada a torquent dui pulvinar sociosqu nam nisl curabitur elementum. Eu nam dictumst at in euismod praesent arcu penatibus ligula viverra cras a parturient scelerisque sagittis a egestas pharetra adipiscing suspendisse. Magna condimentum duis a vestibulum placerat a ac metus condimentum a mi felis ultrices dolor sem adipiscing turpis.\n",
        "Thanking you,\n",
        "Sincerely,\n",
        "phone no: 999999\n",
        "Indian Institute of Science Education and Research (IISER), Mohali.\n",
        "\"\"\"\n",
        "sender = re.search(r'From: \".*\" <(.*)>', email).group(1)\n",
        "receiver = re.search(r'To: \".*\" <(.*)>', email).group(1)\n",
        "subject = re.search(r'Subject: \"(.*)\"', email).group(1)\n",
        "content = re.search(r'Subject: \".*\"\\n(.*)', email, re.DOTALL).group(1).strip()\n",
        "dict = {\n",
        "  'From': sender,\n",
        "  'To': receiver,\n",
        "  'Subject': subject,\n",
        "  'Content': content\n",
        "}\n",
        "print(dict)"
      ],
      "metadata": {
        "colab": {
          "base_uri": "https://localhost:8080/"
        },
        "id": "P-fKXn7rKnDs",
        "outputId": "c239d58b-9b11-49b8-c131-b60a7aaa93e0"
      },
      "execution_count": null,
      "outputs": [
        {
          "output_type": "stream",
          "name": "stdout",
          "text": [
            "{'From': 'ga@iisermohali.ac.in', 'To': 'user@iisermohali.ac.in', 'Subject': 'Header', 'Content': 'Dear Sir,\\n    Accumsan felis leo suspendisse vehicula orci purus vestibulum neque praesent imperdiet fusce sem a parturient penatibus dictum at suspendisse varius libero iaculis ligula. Adipiscing platea est bibendum vivamus nascetur torquent mus augue auctor vestibulum eleifend eu risus et eros ac vehicula nunc posuere. Nostra gravida at natoque diam euismod auctor parturient hac per in suspendisse suspendisse orci a gravida vestibulum a facilisis natoque hac ac scelerisque a cursus fames id himenaeos. Suspendisse mus parturient consectetur adipiscing convallis mauris et posuere arcu adipiscing magnis nisl natoque mollis dis bibendum vulputate nisi bibendum parturient gravida. Parturient mauris in felis dignissim id auctor mi in malesuada a torquent dui pulvinar sociosqu nam nisl curabitur elementum. Eu nam dictumst at in euismod praesent arcu penatibus ligula viverra cras a parturient scelerisque sagittis a egestas pharetra adipiscing suspendisse. Magna condimentum duis a vestibulum placerat a ac metus condimentum a mi felis ultrices dolor sem adipiscing turpis.\\nThanking you,\\nSincerely,\\nphone no: 999999\\nIndian Institute of Science Education and Research (IISER), Mohali.'}\n"
          ]
        }
      ]
    }
  ]
}